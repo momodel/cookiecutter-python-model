{
 "cells": [
  {
   "cell_type": "code",
   "execution_count": 1,
   "metadata": {},
   "outputs": [],
   "source": [
    "# When your module is deployed as a dev version, you can use this file to call your module for testing.\n",
    "# After the test is passed, you can deploy an officinal version for other developers. \n",
    "# The non-dev version cannot be called in this module project.\n",
    "# 当你的 module 部署为 dev 版本时, 你可以使用本文件来调用你的 module 进行测试,\n",
    "# 待测试通过后,再发布为正式版本供其他开发者使用. 非 dev 版本无法在本 module 项目中调用测试.\n",
    "\n",
    "import os\n",
    "import sys\n",
    "\n",
    "# Define root path\n",
    "# 定义root 路径\n",
    "sys.path.append('../')\n",
    "\n",
    "# Import necessary packages\n",
    "# 引入必要的包\n",
    "from modules import json_parser\n",
    "from modules import Client\n",
    "\n",
    "# Initialise Client object\n",
    "# 初始化 Client 实例\n",
    "client = Client(api_key='your_api_key',\n",
    "                project_id='your_project_id', user_ID='your_user_ID',\n",
    "                project_type='your_project_type', source_file_path='Untitled.ipynb')\n",
    "\n",
    "# Make run/train/predict commnad alias for furthur use\n",
    "# 定义 run/train/predict \n",
    "run = client.run\n",
    "train = client.train\n",
    "predict = client.predict\n",
    "\n",
    "# Run a importred module \n",
    "# 如何使用引入的 module\n",
    "# e.g. \n",
    "#      conf = json_parser('{\"rgb_image\":null,\"gray_image\":null}') \n",
    "#      result = run('zhaofengli/new_gender_classifier/0.0.2', conf)\n",
    "#\n",
    "# 'conf' is the parameters in dict form for the imported module\n",
    "# 'conf' 是包含引入的 module 的参数的字典\n",
    "# '[user_id]/[imported_module_name]/[version]' is the identifier of the imported module\n",
    "# '[user_id]/[imported_module_name]/[version]' 是引入的 module 的标识符\n",
    "\n",
    "\n",
    "# Make controller alias for further use\n",
    "# 定义 controller \n",
    "controller = client.controller\n",
    "\n",
    "# IMPORTANT: Add 'work_path' to the head of every file path in your code.\n",
    "# 重要: 在代码中每个文件的路径中加入 'work_path'.\n",
    "# e.g.\n",
    "#      jpgfile = Image.open(work_path + \"picture.jpg\") \n",
    "work_path = './'"
   ]
  },
  {
   "cell_type": "code",
   "execution_count": null,
   "metadata": {},
   "outputs": [],
   "source": [
    "module = client.module('{{cookiecutter.encoded_name}}/dev')"
   ]
  },
  {
   "cell_type": "code",
   "execution_count": null,
   "metadata": {},
   "outputs": [],
   "source": [
    "module.train({\"params1\": \"value1\", \"params2\": \"value2\"})"
   ]
  },
  {
   "cell_type": "code",
   "execution_count": null,
   "metadata": {},
   "outputs": [],
   "source": [
    "module.predict({\"params1\": \"value1\", \"params2\": \"value2\"})"
   ]
  },
  {
   "cell_type": "code",
   "execution_count": null,
   "metadata": {},
   "outputs": [],
   "source": []
  }
 ],
 "metadata": {
  "kernelspec": {
   "display_name": "Python 3",
   "language": "python",
   "name": "python3"
  },
  "language_info": {
   "codemirror_mode": {
    "name": "ipython",
    "version": 3
   },
   "file_extension": ".py",
   "mimetype": "text/x-python",
   "name": "python",
   "nbconvert_exporter": "python",
   "pygments_lexer": "ipython3",
   "version": "3.5.2"
  }
 },
 "nbformat": 4,
 "nbformat_minor": 2
}
